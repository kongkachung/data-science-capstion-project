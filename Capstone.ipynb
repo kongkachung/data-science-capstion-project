{
 "cells": [
  {
   "cell_type": "markdown",
   "metadata": {},
   "source": [
    "## <h1 align=center><font size = 10>Data Science Capstone Project</font></h1>\n",
    "\n",
    "## Hello! Data Science\n",
    "\n",
    "# Introduction\n",
    "\n",
    "Traffic injuries happen all the time and it is imcreasingly becoming the main cause of death globally as the world has more and more vehicles. Many researches has conducted to analyze a range of factors, including weather conditions, special events, roadworks, traffic jams among others, in order to perform an accurate prediction of the severity of the accidents. People are always finding ways to aviod accidents or reduce the severity of the accidents, and knowing what and how factors influenced on the severity of accidents helps a lot. Governments would be interested in it, to efficiently allocate the resources for saving people, saving time and saving money. The target audience of the project is local government, police, rescue groups, road design teams, car insurance companies and last but not the least the drivers themselves. The model and its results are going to provide some key insights for the target audience to make impactful decisions in reducing the number of accidents and injuries in their localities. Data that contributes to determining severity of accident include addresstype, junctiontype, weather condition, Road condition and Light condition. This project aims to predict Severity of accident based on these metrics.  \n",
    "\n",
    "# Data\n",
    "\n",
    "The original link of dataset is provided below. It has around 200000 samples and about 60 attributes, which is provided by Seattle Department of Transportion. It is a well-rounded dataset, and includes how and when the accidents took place with number of people involved amd weather condition. Meta-data of the dataset also offered. To simplify the analyzing process, some key attributes are chosen and some features are dropped. Here,\n",
    "\n",
    "SEVERITYVODE,\n",
    "ADDRTYPE,\n",
    "JUNCTIONTYPE,\n",
    "WEATHER,\n",
    "ROADCOND,\n",
    "LIGHTCOND,\n",
    "PERSONCOUNT,\n",
    "PEDCOUNT,\n",
    "PEDCYLCOUNT,\n",
    "VEHCOUNT \n",
    "\n",
    "They are selected to be the key attributes. I believe these variables will also perform a good model for predicting the severity in car accident.\n",
    "\n",
    "load the csv file\n",
    "\n",
    "\n",
    "\n"
   ]
  },
  {
   "cell_type": "code",
   "execution_count": 1,
   "metadata": {},
   "outputs": [
    {
     "name": "stdout",
     "output_type": "stream",
     "text": [
      "Hello Capstone Project Course!\n"
     ]
    }
   ],
   "source": [
    "print('Hello Capstone Project Course!')"
   ]
  },
  {
   "cell_type": "code",
   "execution_count": 2,
   "metadata": {},
   "outputs": [
    {
     "name": "stdout",
     "output_type": "stream",
     "text": [
      "--2020-10-26 05:58:27--  https://s3.us.cloud-object-storage.appdomain.cloud/cf-courses-data/CognitiveClass/DP0701EN/version-2/Data-Collisions.csv\n",
      "Resolving s3.us.cloud-object-storage.appdomain.cloud (s3.us.cloud-object-storage.appdomain.cloud)... 67.228.254.196\n",
      "Connecting to s3.us.cloud-object-storage.appdomain.cloud (s3.us.cloud-object-storage.appdomain.cloud)|67.228.254.196|:443... connected.\n",
      "HTTP request sent, awaiting response... 200 OK\n",
      "Length: 73917638 (70M) [text/csv]\n",
      "Saving to: ‘collision.csv’\n",
      "\n",
      "collision.csv       100%[===================>]  70.49M  21.7MB/s    in 3.3s    \n",
      "\n",
      "2020-10-26 05:58:31 (21.1 MB/s) - ‘collision.csv’ saved [73917638/73917638]\n",
      "\n"
     ]
    },
    {
     "name": "stderr",
     "output_type": "stream",
     "text": [
      "/home/jupyterlab/conda/envs/python/lib/python3.6/site-packages/IPython/core/interactiveshell.py:3072: DtypeWarning: Columns (33) have mixed types.Specify dtype option on import or set low_memory=False.\n",
      "  interactivity=interactivity, compiler=compiler, result=result)\n"
     ]
    }
   ],
   "source": [
    "!wget -O collision.csv https://s3.us.cloud-object-storage.appdomain.cloud/cf-courses-data/CognitiveClass/DP0701EN/version-2/Data-Collisions.csv\n",
    "\n",
    "import itertools\n",
    "import numpy as np\n",
    "import matplotlib.pyplot as plt\n",
    "import seaborn as sns \n",
    "from matplotlib.ticker import NullFormatter\n",
    "import pandas as pd\n",
    "import numpy as np\n",
    "import matplotlib.ticker as ticker\n",
    "from sklearn import preprocessing\n",
    "from sklearn import metrics\n",
    "from sklearn.metrics import jaccard_similarity_score\n",
    "from sklearn.metrics import f1_score\n",
    "from sklearn.metrics import log_loss\n",
    "%matplotlib inline\n",
    "\n",
    "df=pd.read_csv('collision.csv')\n",
    "df.fillna('others',inplace=True)\n",
    "df.drop(columns=['X', 'Y',],inplace=True)\n",
    "df.drop(columns=['COLDETKEY', 'INCKEY','REPORTNO','INTKEY','LOCATION','EXCEPTRSNCODE','EXCEPTRSNDESC','SEVERITYCODE.1', 'SEVERITYDESC', \n",
    "                 'INCDATE','INCDTTM',  'SDOT_COLCODE', 'SDOT_COLDESC', 'INATTENTIONIND', 'UNDERINFL', 'PEDROWNOTGRNT', 'SDOTCOLNUM', \n",
    "                 'SPEEDING', 'ST_COLCODE', 'ST_COLDESC','SEGLANEKEY', 'CROSSWALKKEY', 'HITPARKEDCAR', 'OBJECTID', 'COLLISIONTYPE','STATUS'],inplace=True)\n"
   ]
  },
  {
   "cell_type": "code",
   "execution_count": 3,
   "metadata": {},
   "outputs": [
    {
     "data": {
      "text/html": [
       "<div>\n",
       "<style scoped>\n",
       "    .dataframe tbody tr th:only-of-type {\n",
       "        vertical-align: middle;\n",
       "    }\n",
       "\n",
       "    .dataframe tbody tr th {\n",
       "        vertical-align: top;\n",
       "    }\n",
       "\n",
       "    .dataframe thead th {\n",
       "        text-align: right;\n",
       "    }\n",
       "</style>\n",
       "<table border=\"1\" class=\"dataframe\">\n",
       "  <thead>\n",
       "    <tr style=\"text-align: right;\">\n",
       "      <th></th>\n",
       "      <th>SEVERITYCODE</th>\n",
       "      <th>ADDRTYPE</th>\n",
       "      <th>PERSONCOUNT</th>\n",
       "      <th>PEDCOUNT</th>\n",
       "      <th>PEDCYLCOUNT</th>\n",
       "      <th>VEHCOUNT</th>\n",
       "      <th>JUNCTIONTYPE</th>\n",
       "      <th>WEATHER</th>\n",
       "      <th>ROADCOND</th>\n",
       "      <th>LIGHTCOND</th>\n",
       "    </tr>\n",
       "  </thead>\n",
       "  <tbody>\n",
       "    <tr>\n",
       "      <th>0</th>\n",
       "      <td>2</td>\n",
       "      <td>Intersection</td>\n",
       "      <td>2</td>\n",
       "      <td>0</td>\n",
       "      <td>0</td>\n",
       "      <td>2</td>\n",
       "      <td>At Intersection (intersection related)</td>\n",
       "      <td>Overcast</td>\n",
       "      <td>Wet</td>\n",
       "      <td>Daylight</td>\n",
       "    </tr>\n",
       "    <tr>\n",
       "      <th>1</th>\n",
       "      <td>1</td>\n",
       "      <td>Block</td>\n",
       "      <td>2</td>\n",
       "      <td>0</td>\n",
       "      <td>0</td>\n",
       "      <td>2</td>\n",
       "      <td>Mid-Block (not related to intersection)</td>\n",
       "      <td>Raining</td>\n",
       "      <td>Wet</td>\n",
       "      <td>Dark - Street Lights On</td>\n",
       "    </tr>\n",
       "    <tr>\n",
       "      <th>2</th>\n",
       "      <td>1</td>\n",
       "      <td>Block</td>\n",
       "      <td>4</td>\n",
       "      <td>0</td>\n",
       "      <td>0</td>\n",
       "      <td>3</td>\n",
       "      <td>Mid-Block (not related to intersection)</td>\n",
       "      <td>Overcast</td>\n",
       "      <td>Dry</td>\n",
       "      <td>Daylight</td>\n",
       "    </tr>\n",
       "    <tr>\n",
       "      <th>3</th>\n",
       "      <td>1</td>\n",
       "      <td>Block</td>\n",
       "      <td>3</td>\n",
       "      <td>0</td>\n",
       "      <td>0</td>\n",
       "      <td>3</td>\n",
       "      <td>Mid-Block (not related to intersection)</td>\n",
       "      <td>Clear</td>\n",
       "      <td>Dry</td>\n",
       "      <td>Daylight</td>\n",
       "    </tr>\n",
       "    <tr>\n",
       "      <th>4</th>\n",
       "      <td>2</td>\n",
       "      <td>Intersection</td>\n",
       "      <td>2</td>\n",
       "      <td>0</td>\n",
       "      <td>0</td>\n",
       "      <td>2</td>\n",
       "      <td>At Intersection (intersection related)</td>\n",
       "      <td>Raining</td>\n",
       "      <td>Wet</td>\n",
       "      <td>Daylight</td>\n",
       "    </tr>\n",
       "    <tr>\n",
       "      <th>...</th>\n",
       "      <td>...</td>\n",
       "      <td>...</td>\n",
       "      <td>...</td>\n",
       "      <td>...</td>\n",
       "      <td>...</td>\n",
       "      <td>...</td>\n",
       "      <td>...</td>\n",
       "      <td>...</td>\n",
       "      <td>...</td>\n",
       "      <td>...</td>\n",
       "    </tr>\n",
       "    <tr>\n",
       "      <th>194668</th>\n",
       "      <td>2</td>\n",
       "      <td>Block</td>\n",
       "      <td>3</td>\n",
       "      <td>0</td>\n",
       "      <td>0</td>\n",
       "      <td>2</td>\n",
       "      <td>Mid-Block (not related to intersection)</td>\n",
       "      <td>Clear</td>\n",
       "      <td>Dry</td>\n",
       "      <td>Daylight</td>\n",
       "    </tr>\n",
       "    <tr>\n",
       "      <th>194669</th>\n",
       "      <td>1</td>\n",
       "      <td>Block</td>\n",
       "      <td>2</td>\n",
       "      <td>0</td>\n",
       "      <td>0</td>\n",
       "      <td>2</td>\n",
       "      <td>Mid-Block (not related to intersection)</td>\n",
       "      <td>Raining</td>\n",
       "      <td>Wet</td>\n",
       "      <td>Daylight</td>\n",
       "    </tr>\n",
       "    <tr>\n",
       "      <th>194670</th>\n",
       "      <td>2</td>\n",
       "      <td>Intersection</td>\n",
       "      <td>3</td>\n",
       "      <td>0</td>\n",
       "      <td>0</td>\n",
       "      <td>2</td>\n",
       "      <td>At Intersection (intersection related)</td>\n",
       "      <td>Clear</td>\n",
       "      <td>Dry</td>\n",
       "      <td>Daylight</td>\n",
       "    </tr>\n",
       "    <tr>\n",
       "      <th>194671</th>\n",
       "      <td>2</td>\n",
       "      <td>Intersection</td>\n",
       "      <td>2</td>\n",
       "      <td>0</td>\n",
       "      <td>1</td>\n",
       "      <td>1</td>\n",
       "      <td>At Intersection (intersection related)</td>\n",
       "      <td>Clear</td>\n",
       "      <td>Dry</td>\n",
       "      <td>Dusk</td>\n",
       "    </tr>\n",
       "    <tr>\n",
       "      <th>194672</th>\n",
       "      <td>1</td>\n",
       "      <td>Block</td>\n",
       "      <td>2</td>\n",
       "      <td>0</td>\n",
       "      <td>0</td>\n",
       "      <td>2</td>\n",
       "      <td>Mid-Block (not related to intersection)</td>\n",
       "      <td>Clear</td>\n",
       "      <td>Wet</td>\n",
       "      <td>Daylight</td>\n",
       "    </tr>\n",
       "  </tbody>\n",
       "</table>\n",
       "<p>194673 rows × 10 columns</p>\n",
       "</div>"
      ],
      "text/plain": [
       "        SEVERITYCODE      ADDRTYPE  PERSONCOUNT  PEDCOUNT  PEDCYLCOUNT  \\\n",
       "0                  2  Intersection            2         0            0   \n",
       "1                  1         Block            2         0            0   \n",
       "2                  1         Block            4         0            0   \n",
       "3                  1         Block            3         0            0   \n",
       "4                  2  Intersection            2         0            0   \n",
       "...              ...           ...          ...       ...          ...   \n",
       "194668             2         Block            3         0            0   \n",
       "194669             1         Block            2         0            0   \n",
       "194670             2  Intersection            3         0            0   \n",
       "194671             2  Intersection            2         0            1   \n",
       "194672             1         Block            2         0            0   \n",
       "\n",
       "        VEHCOUNT                             JUNCTIONTYPE   WEATHER ROADCOND  \\\n",
       "0              2   At Intersection (intersection related)  Overcast      Wet   \n",
       "1              2  Mid-Block (not related to intersection)   Raining      Wet   \n",
       "2              3  Mid-Block (not related to intersection)  Overcast      Dry   \n",
       "3              3  Mid-Block (not related to intersection)     Clear      Dry   \n",
       "4              2   At Intersection (intersection related)   Raining      Wet   \n",
       "...          ...                                      ...       ...      ...   \n",
       "194668         2  Mid-Block (not related to intersection)     Clear      Dry   \n",
       "194669         2  Mid-Block (not related to intersection)   Raining      Wet   \n",
       "194670         2   At Intersection (intersection related)     Clear      Dry   \n",
       "194671         1   At Intersection (intersection related)     Clear      Dry   \n",
       "194672         2  Mid-Block (not related to intersection)     Clear      Wet   \n",
       "\n",
       "                      LIGHTCOND  \n",
       "0                      Daylight  \n",
       "1       Dark - Street Lights On  \n",
       "2                      Daylight  \n",
       "3                      Daylight  \n",
       "4                      Daylight  \n",
       "...                         ...  \n",
       "194668                 Daylight  \n",
       "194669                 Daylight  \n",
       "194670                 Daylight  \n",
       "194671                     Dusk  \n",
       "194672                 Daylight  \n",
       "\n",
       "[194673 rows x 10 columns]"
      ]
     },
     "execution_count": 3,
     "metadata": {},
     "output_type": "execute_result"
    }
   ],
   "source": [
    "df"
   ]
  },
  {
   "cell_type": "markdown",
   "metadata": {},
   "source": [
    "# Methodology"
   ]
  },
  {
   "cell_type": "code",
   "execution_count": 4,
   "metadata": {},
   "outputs": [
    {
     "data": {
      "text/plain": [
       "<AxesSubplot:xlabel='SEVERITYCODE', ylabel='count'>"
      ]
     },
     "execution_count": 4,
     "metadata": {},
     "output_type": "execute_result"
    },
    {
     "data": {
      "image/png": "[encoded data removed]",
      "text/plain": [
       "<Figure size 432x288 with 1 Axes>"
      ]
     },
     "metadata": {
      "needs_background": "light"
     },
     "output_type": "display_data"
    }
   ],
   "source": [
    "sns.countplot(df['SEVERITYCODE'],data=df)"
   ]
  },
  {
   "cell_type": "markdown",
   "metadata": {},
   "source": [
    "### From the diagram above, we can find the severitycode has only two types, one stands for property damage and two stands for injury. Below, we will simply discuss the relation between some factors and severitycode, so called the severity of the accident.\n",
    "\n",
    "### 1. Relationship between weather and seveitycode and accident, we will find more accidents occur in clear condition, that may because most of the time the weather condition should be clear. And more of the time, the accident is in the condition of one, which leads to property damage."
   ]
  },
  {
   "cell_type": "code",
   "execution_count": 5,
   "metadata": {},
   "outputs": [
    {
     "data": {
      "text/plain": [
       "<AxesSubplot:xlabel='count', ylabel='WEATHER'>"
      ]
     },
     "execution_count": 5,
     "metadata": {},
     "output_type": "execute_result"
    },
    {
     "data": {
      "image/png": "[encoded data removed]",
      "text/plain": [
       "<Figure size 432x288 with 1 Axes>"
      ]
     },
     "metadata": {
      "needs_background": "light"
     },
     "output_type": "display_data"
    }
   ],
   "source": [
    "sns.countplot(y=df['WEATHER'],hue = 'SEVERITYCODE',data=df)"
   ]
  },
  {
   "cell_type": "markdown",
   "metadata": {},
   "source": [
    "### 2. Relationship between VEHCOUNT, PERSONCOUNT based on SEVERITY. We can find when the personcount increases, the vehicle count also tends to increae. And more type'2' accidents occur when the vehicle count is high."
   ]
  },
  {
   "cell_type": "code",
   "execution_count": 6,
   "metadata": {},
   "outputs": [
    {
     "data": {
      "text/plain": [
       "<seaborn.axisgrid.FacetGrid at 0x7f010c4ff470>"
      ]
     },
     "execution_count": 6,
     "metadata": {},
     "output_type": "execute_result"
    },
    {
     "data": {
      "image/png": "[encoded data removed]",
      "text/plain": [
       "<Figure size 471.5x360 with 1 Axes>"
      ]
     },
     "metadata": {
      "needs_background": "light"
     },
     "output_type": "display_data"
    }
   ],
   "source": [
    "sns.relplot(x='PERSONCOUNT',y='VEHCOUNT',hue='SEVERITYCODE',data=df)"
   ]
  },
  {
   "cell_type": "markdown",
   "metadata": {},
   "source": [
    "### 3. Relationship between LIGHTCOND and personcount and SEVERITY of Accidents. It is obvious that most accident take place when daylight and dark but with street lights on. It is also because this two condition covers most of time in our daily life. "
   ]
  },
  {
   "cell_type": "code",
   "execution_count": 7,
   "metadata": {},
   "outputs": [
    {
     "data": {
      "text/plain": [
       "<seaborn.axisgrid.FacetGrid at 0x7f010c8a6cc0>"
      ]
     },
     "execution_count": 7,
     "metadata": {},
     "output_type": "execute_result"
    },
    {
     "data": {
      "image/png": "[encoded data removed]",
      "text/plain": [
       "<Figure size 443.5x360 with 1 Axes>"
      ]
     },
     "metadata": {
      "needs_background": "light"
     },
     "output_type": "display_data"
    }
   ],
   "source": [
    "sns.catplot(x='PERSONCOUNT',y='LIGHTCOND',hue = 'SEVERITYCODE',data=df)"
   ]
  },
  {
   "cell_type": "markdown",
   "metadata": {},
   "source": [
    "### 4. Convert Categorical features to numerical values\n",
    "\n",
    "Before modelling, we have to do some preparation of the dataset, to convert te categorical variables to numeric values, for ADDRTYPE, JUNCTIONTYPE, WEATHER, ROADCOND, LIGHTCOND. \n",
    "\n",
    "The reason is that knn, decision tree, logistic models cannot treat with categorical variables. And moreover, we drop 'PERSONCOUNT','PEDCOUNT','PEDCYLCOUNT','VEHCOUNT' these four attributes as to further simplify the whole prediction process."
   ]
  },
  {
   "cell_type": "code",
   "execution_count": 8,
   "metadata": {},
   "outputs": [
    {
     "data": {
      "text/html": [
       "<div>\n",
       "<style scoped>\n",
       "    .dataframe tbody tr th:only-of-type {\n",
       "        vertical-align: middle;\n",
       "    }\n",
       "\n",
       "    .dataframe tbody tr th {\n",
       "        vertical-align: top;\n",
       "    }\n",
       "\n",
       "    .dataframe thead th {\n",
       "        text-align: right;\n",
       "    }\n",
       "</style>\n",
       "<table border=\"1\" class=\"dataframe\">\n",
       "  <thead>\n",
       "    <tr style=\"text-align: right;\">\n",
       "      <th></th>\n",
       "      <th>SEVERITYCODE</th>\n",
       "      <th>ADDRTYPE</th>\n",
       "      <th>JUNCTIONTYPE</th>\n",
       "      <th>WEATHER</th>\n",
       "      <th>ROADCOND</th>\n",
       "      <th>LIGHTCOND</th>\n",
       "    </tr>\n",
       "  </thead>\n",
       "  <tbody>\n",
       "    <tr>\n",
       "      <th>0</th>\n",
       "      <td>2</td>\n",
       "      <td>2</td>\n",
       "      <td>1</td>\n",
       "      <td>4</td>\n",
       "      <td>8</td>\n",
       "      <td>5</td>\n",
       "    </tr>\n",
       "    <tr>\n",
       "      <th>1</th>\n",
       "      <td>1</td>\n",
       "      <td>1</td>\n",
       "      <td>4</td>\n",
       "      <td>6</td>\n",
       "      <td>8</td>\n",
       "      <td>2</td>\n",
       "    </tr>\n",
       "    <tr>\n",
       "      <th>2</th>\n",
       "      <td>1</td>\n",
       "      <td>1</td>\n",
       "      <td>4</td>\n",
       "      <td>4</td>\n",
       "      <td>0</td>\n",
       "      <td>5</td>\n",
       "    </tr>\n",
       "    <tr>\n",
       "      <th>3</th>\n",
       "      <td>1</td>\n",
       "      <td>1</td>\n",
       "      <td>4</td>\n",
       "      <td>1</td>\n",
       "      <td>0</td>\n",
       "      <td>5</td>\n",
       "    </tr>\n",
       "    <tr>\n",
       "      <th>4</th>\n",
       "      <td>2</td>\n",
       "      <td>2</td>\n",
       "      <td>1</td>\n",
       "      <td>6</td>\n",
       "      <td>8</td>\n",
       "      <td>5</td>\n",
       "    </tr>\n",
       "    <tr>\n",
       "      <th>...</th>\n",
       "      <td>...</td>\n",
       "      <td>...</td>\n",
       "      <td>...</td>\n",
       "      <td>...</td>\n",
       "      <td>...</td>\n",
       "      <td>...</td>\n",
       "    </tr>\n",
       "    <tr>\n",
       "      <th>194668</th>\n",
       "      <td>2</td>\n",
       "      <td>1</td>\n",
       "      <td>4</td>\n",
       "      <td>1</td>\n",
       "      <td>0</td>\n",
       "      <td>5</td>\n",
       "    </tr>\n",
       "    <tr>\n",
       "      <th>194669</th>\n",
       "      <td>1</td>\n",
       "      <td>1</td>\n",
       "      <td>4</td>\n",
       "      <td>6</td>\n",
       "      <td>8</td>\n",
       "      <td>5</td>\n",
       "    </tr>\n",
       "    <tr>\n",
       "      <th>194670</th>\n",
       "      <td>2</td>\n",
       "      <td>2</td>\n",
       "      <td>1</td>\n",
       "      <td>1</td>\n",
       "      <td>0</td>\n",
       "      <td>5</td>\n",
       "    </tr>\n",
       "    <tr>\n",
       "      <th>194671</th>\n",
       "      <td>2</td>\n",
       "      <td>2</td>\n",
       "      <td>1</td>\n",
       "      <td>1</td>\n",
       "      <td>0</td>\n",
       "      <td>6</td>\n",
       "    </tr>\n",
       "    <tr>\n",
       "      <th>194672</th>\n",
       "      <td>1</td>\n",
       "      <td>1</td>\n",
       "      <td>4</td>\n",
       "      <td>1</td>\n",
       "      <td>8</td>\n",
       "      <td>5</td>\n",
       "    </tr>\n",
       "  </tbody>\n",
       "</table>\n",
       "<p>194673 rows × 6 columns</p>\n",
       "</div>"
      ],
      "text/plain": [
       "        SEVERITYCODE  ADDRTYPE  JUNCTIONTYPE  WEATHER  ROADCOND  LIGHTCOND\n",
       "0                  2         2             1        4         8          5\n",
       "1                  1         1             4        6         8          2\n",
       "2                  1         1             4        4         0          5\n",
       "3                  1         1             4        1         0          5\n",
       "4                  2         2             1        6         8          5\n",
       "...              ...       ...           ...      ...       ...        ...\n",
       "194668             2         1             4        1         0          5\n",
       "194669             1         1             4        6         8          5\n",
       "194670             2         2             1        1         0          5\n",
       "194671             2         2             1        1         0          6\n",
       "194672             1         1             4        1         8          5\n",
       "\n",
       "[194673 rows x 6 columns]"
      ]
     },
     "execution_count": 8,
     "metadata": {},
     "output_type": "execute_result"
    }
   ],
   "source": [
    "from sklearn import preprocessing\n",
    "\n",
    "addrtype = preprocessing.LabelEncoder()\n",
    "addrtype.fit(df['ADDRTYPE'])\n",
    "df['ADDRTYPE']=addrtype.transform(df['ADDRTYPE'])\n",
    "\n",
    "jun = preprocessing.LabelEncoder()\n",
    "jun.fit(df['JUNCTIONTYPE'])\n",
    "df['JUNCTIONTYPE']=jun.transform(df['JUNCTIONTYPE'])\n",
    "\n",
    "weathercon = preprocessing.LabelEncoder()\n",
    "weathercon.fit(df['WEATHER'])\n",
    "df['WEATHER']=weathercon.transform(df['WEATHER'])\n",
    "\n",
    "roadcon = preprocessing.LabelEncoder()\n",
    "roadcon.fit(df['ROADCOND'])\n",
    "df['ROADCOND']=roadcon.transform(df['ROADCOND'])\n",
    "\n",
    "lightcon = preprocessing.LabelEncoder()\n",
    "lightcon.fit(df['LIGHTCOND'])\n",
    "df['LIGHTCOND']=lightcon.transform(df['LIGHTCOND'])\n",
    "\n",
    "df.drop(columns=['PERSONCOUNT','PEDCOUNT','PEDCYLCOUNT','VEHCOUNT'],inplace=True)\n",
    "df"
   ]
  },
  {
   "cell_type": "code",
   "execution_count": 9,
   "metadata": {},
   "outputs": [],
   "source": [
    "X = df[['ADDRTYPE','JUNCTIONTYPE','WEATHER','ROADCOND','LIGHTCOND']]\n",
    "\n",
    "y = df['SEVERITYCODE'].values"
   ]
  },
  {
   "cell_type": "markdown",
   "metadata": {},
   "source": [
    "### 5. Normalize Data"
   ]
  },
  {
   "cell_type": "code",
   "execution_count": 10,
   "metadata": {},
   "outputs": [
    {
     "name": "stderr",
     "output_type": "stream",
     "text": [
      "/home/jupyterlab/conda/envs/python/lib/python3.6/site-packages/sklearn/preprocessing/data.py:625: DataConversionWarning: Data with input dtype int64 were all converted to float64 by StandardScaler.\n",
      "  return self.partial_fit(X, y)\n",
      "/home/jupyterlab/conda/envs/python/lib/python3.6/site-packages/ipykernel_launcher.py:1: DataConversionWarning: Data with input dtype int64 were all converted to float64 by StandardScaler.\n",
      "  \"\"\"Entry point for launching an IPython kernel.\n"
     ]
    },
    {
     "data": {
      "text/plain": [
       "array([[ 1.28668708, -1.19903701,  0.22981187,  1.39847224,  0.25900713],\n",
       "       [-0.69338623,  0.73412368,  0.87758556,  1.39847224, -1.36653782],\n",
       "       [-0.69338623,  0.73412368,  0.22981187, -0.73846749,  0.25900713],\n",
       "       ...,\n",
       "       [ 1.28668708, -1.19903701, -0.74184867, -0.73846749,  0.25900713],\n",
       "       [ 1.28668708, -1.19903701, -0.74184867, -0.73846749,  0.80085545],\n",
       "       [-0.69338623,  0.73412368, -0.74184867,  1.39847224,  0.25900713]])"
      ]
     },
     "execution_count": 10,
     "metadata": {},
     "output_type": "execute_result"
    }
   ],
   "source": [
    "X = preprocessing.StandardScaler().fit(X).transform(X)\n",
    "X"
   ]
  },
  {
   "cell_type": "markdown",
   "metadata": {},
   "source": [
    "# Predictive Modeling\n",
    "\n",
    "Based on exploratory data analysis, I can see that the categorical variables have key impact in predicting severity in accidents hence I have selected these most important features to predict the severity of accidents in Seattle. Among all the features, the following features have the most influence in the accuracy of the predictions. “SEVERITYCODE” is the target variable. After standardizing the input feature, the data has been ready for building machine learning models. \n",
    "\n",
    "We will use the following models:\n",
    "\n",
    "K-Nearest Neighbor (KNN)\n",
    "KNN will help us predict the severity code of an outcome by finding the most similar to data point within k distance.\n",
    "\n",
    "Decision Tree\n",
    "A decision tree model gives us a layout of all possible outcomes so we can fully analyze the concequences of a decision. It context, the decision tree observes all possible outcomes of different weather conditions.\n",
    "\n",
    "Logistic Regression\n",
    "Because our dataset only provides us with two severity code outcomes, our model will only predict one of those two classes. This makes our data binary, which is perfect to use with logistic regression.\n",
    "\n",
    "### K Nearest Neighbor(KNN)\n",
    "\n"
   ]
  },
  {
   "cell_type": "code",
   "execution_count": 11,
   "metadata": {},
   "outputs": [
    {
     "name": "stdout",
     "output_type": "stream",
     "text": [
      "Train set: (155738, 5) (155738,)\n",
      "Test set: (38935, 5) (38935,)\n"
     ]
    }
   ],
   "source": [
    "# We split the X into train and test to find the best k\n",
    "from sklearn.model_selection import train_test_split\n",
    "X_train, X_test, y_train, y_test = train_test_split(X, y, test_size=0.2, random_state=4)\n",
    "print ('Train set:', X_train.shape,  y_train.shape)\n",
    "print ('Test set:', X_test.shape,  y_test.shape)"
   ]
  },
  {
   "cell_type": "code",
   "execution_count": null,
   "metadata": {},
   "outputs": [],
   "source": [
    "# Modeling\n",
    "from sklearn.neighbors import KNeighborsClassifier\n",
    "\n",
    "# Best k\n",
    "Ks=30\n",
    "mean_acc=np.zeros((Ks-1))\n",
    "std_acc=np.zeros((Ks-1))\n",
    "ConfustionMx=[];\n",
    "for n in range(1,Ks):\n",
    "    #Train Model and Predict  \n",
    "    kNN_model = KNeighborsClassifier(n_neighbors=n).fit(X_train,y_train)\n",
    "    yhat = kNN_model.predict(X_test)\n",
    "    mean_acc[n-1]=np.mean(yhat==y_test); \n",
    "    std_acc[n-1]=np.std(yhat==y_test)/np.sqrt(yhat.shape[0])\n",
    "mean_acc"
   ]
  },
  {
   "cell_type": "code",
   "execution_count": 12,
   "metadata": {},
   "outputs": [
    {
     "data": {
      "text/plain": [
       "KNeighborsClassifier(algorithm='auto', leaf_size=30, metric='minkowski',\n",
       "           metric_params=None, n_jobs=None, n_neighbors=25, p=2,\n",
       "           weights='uniform')"
      ]
     },
     "execution_count": 12,
     "metadata": {},
     "output_type": "execute_result"
    }
   ],
   "source": [
    "# Building the model again, using k= 25\n",
    "from sklearn.neighbors import KNeighborsClassifier\n",
    "k = 25\n",
    "#Train Model and Predict  \n",
    "kNN_model = KNeighborsClassifier(n_neighbors=k).fit(X_train,y_train)\n",
    "kNN_model"
   ]
  },
  {
   "cell_type": "code",
   "execution_count": 19,
   "metadata": {},
   "outputs": [
    {
     "name": "stdout",
     "output_type": "stream",
     "text": [
      "KNN Jaccard index: 0.69\n",
      "KNN F1-score: 0.60\n"
     ]
    }
   ],
   "source": [
    "knn_yhat = kNN_model.predict(X_test)\n",
    "print(\"KNN Jaccard index: %.2f\" % jaccard_similarity_score(y_test, knn_yhat))\n",
    "print(\"KNN F1-score: %.2f\" % f1_score(y_test, knn_yhat, average='weighted') )"
   ]
  },
  {
   "cell_type": "markdown",
   "metadata": {},
   "source": [
    "### Decision Tree"
   ]
  },
  {
   "cell_type": "code",
   "execution_count": 13,
   "metadata": {},
   "outputs": [
    {
     "data": {
      "text/plain": [
       "DecisionTreeClassifier(class_weight=None, criterion='entropy', max_depth=4,\n",
       "            max_features=None, max_leaf_nodes=None,\n",
       "            min_impurity_decrease=0.0, min_impurity_split=None,\n",
       "            min_samples_leaf=1, min_samples_split=2,\n",
       "            min_weight_fraction_leaf=0.0, presort=False, random_state=None,\n",
       "            splitter='best')"
      ]
     },
     "execution_count": 13,
     "metadata": {},
     "output_type": "execute_result"
    }
   ],
   "source": [
    "from sklearn.tree import DecisionTreeClassifier\n",
    "DT_model = DecisionTreeClassifier(criterion=\"entropy\", max_depth = 4)\n",
    "DT_model.fit(X_train,y_train)\n",
    "DT_model"
   ]
  },
  {
   "cell_type": "code",
   "execution_count": 14,
   "metadata": {},
   "outputs": [
    {
     "data": {
      "text/plain": [
       "array([1, 1, 1, ..., 1, 1, 1])"
      ]
     },
     "execution_count": 14,
     "metadata": {},
     "output_type": "execute_result"
    }
   ],
   "source": [
    "yhat = DT_model.predict(X_test)\n",
    "yhat"
   ]
  },
  {
   "cell_type": "code",
   "execution_count": 20,
   "metadata": {},
   "outputs": [
    {
     "name": "stdout",
     "output_type": "stream",
     "text": [
      "DT Jaccard index: 0.70\n",
      "DT F1-score: 0.58\n"
     ]
    },
    {
     "name": "stderr",
     "output_type": "stream",
     "text": [
      "/home/jupyterlab/conda/envs/python/lib/python3.6/site-packages/sklearn/metrics/classification.py:1143: UndefinedMetricWarning: F-score is ill-defined and being set to 0.0 in labels with no predicted samples.\n",
      "  'precision', 'predicted', average, warn_for)\n"
     ]
    }
   ],
   "source": [
    "DT_yhat = DT_model.predict(X_test)\n",
    "print(\"DT Jaccard index: %.2f\" % jaccard_similarity_score(y_test, DT_yhat))\n",
    "print(\"DT F1-score: %.2f\" % f1_score(y_test, DT_yhat, average='weighted') )"
   ]
  },
  {
   "cell_type": "markdown",
   "metadata": {},
   "source": [
    "### Logistic Regression"
   ]
  },
  {
   "cell_type": "code",
   "execution_count": 16,
   "metadata": {},
   "outputs": [
    {
     "name": "stderr",
     "output_type": "stream",
     "text": [
      "/home/jupyterlab/conda/envs/python/lib/python3.6/site-packages/sklearn/linear_model/logistic.py:433: FutureWarning: Default solver will be changed to 'lbfgs' in 0.22. Specify a solver to silence this warning.\n",
      "  FutureWarning)\n"
     ]
    },
    {
     "data": {
      "text/plain": [
       "LogisticRegression(C=0.01, class_weight=None, dual=False, fit_intercept=True,\n",
       "          intercept_scaling=1, max_iter=100, multi_class='warn',\n",
       "          n_jobs=None, penalty='l2', random_state=None, solver='warn',\n",
       "          tol=0.0001, verbose=0, warm_start=False)"
      ]
     },
     "execution_count": 16,
     "metadata": {},
     "output_type": "execute_result"
    }
   ],
   "source": [
    "from sklearn.linear_model import LogisticRegression\n",
    "LR_model = LogisticRegression(C=0.01).fit(X_train,y_train)\n",
    "LR_model"
   ]
  },
  {
   "cell_type": "code",
   "execution_count": 17,
   "metadata": {},
   "outputs": [
    {
     "data": {
      "text/plain": [
       "array([1, 1, 1, ..., 1, 1, 1])"
      ]
     },
     "execution_count": 17,
     "metadata": {},
     "output_type": "execute_result"
    }
   ],
   "source": [
    "yhat = LR_model.predict(X_test)\n",
    "yhat"
   ]
  },
  {
   "cell_type": "code",
   "execution_count": 23,
   "metadata": {},
   "outputs": [
    {
     "data": {
      "text/plain": [
       "array([[0.79637941, 0.20362059],\n",
       "       [0.55838386, 0.44161614],\n",
       "       [0.74726717, 0.25273283],\n",
       "       ...,\n",
       "       [0.63655603, 0.36344397],\n",
       "       [0.91059512, 0.08940488],\n",
       "       [0.79637941, 0.20362059]])"
      ]
     },
     "execution_count": 23,
     "metadata": {},
     "output_type": "execute_result"
    }
   ],
   "source": [
    "yhar_prob = LR_model.predict_proba(X_test)\n",
    "yhar_prob"
   ]
  },
  {
   "cell_type": "code",
   "execution_count": 22,
   "metadata": {},
   "outputs": [
    {
     "name": "stdout",
     "output_type": "stream",
     "text": [
      "LR Jaccard index: 0.70\n",
      "LR F1-score: 0.59\n",
      "LR LogLoss: 0.58\n"
     ]
    }
   ],
   "source": [
    "LR_yhat = LR_model.predict(X_test)\n",
    "LR_yhat_prob = LR_model.predict_proba(X_test)\n",
    "print(\"LR Jaccard index: %.2f\" % jaccard_similarity_score(y_test, LR_yhat))\n",
    "print(\"LR F1-score: %.2f\" % f1_score(y_test, LR_yhat, average='weighted') )\n",
    "print(\"LR LogLoss: %.2f\" % log_loss(y_test, LR_yhat_prob))"
   ]
  },
  {
   "cell_type": "markdown",
   "metadata": {},
   "source": [
    "# Discussion"
   ]
  },
  {
   "cell_type": "markdown",
   "metadata": {},
   "source": [
    "In the beginning of this notebook, we had categorical data that was of type 'object'. This is not a data type that we could have fed through an algoritim, so label encoding was used to created new classes that were of type int8; a numerical data type.\n",
    "\n",
    "From the operation above, we have concluded the accuracy of each models, including K-Nearest Neighbour, Decision Tree and Logistic Regression. Although the first two are ideal for this project, logistic regression made most sense because of its binary nature. Evaluation metrics used to test the accuracy of our models were jaccard index, f-1 score and logloss for logistic regression. Choosing different k, max depth and hyparameter C values helped to improve our accuracy to be the best possible.\n",
    "\n",
    "And the result is shown here for reference:\n"
   ]
  },
  {
   "cell_type": "markdown",
   "metadata": {},
   "source": [
    "KNN Jaccard index: 0.69\n",
    "KNN F1-score: 0.60\n",
    "    \n",
    "DT Jaccard index: 0.70\n",
    "DT F1-score: 0.58\n",
    "    \n",
    "LR Jaccard index: 0.70\n",
    "LR F1-score: 0.59\n",
    "LR LogLoss: 0.58\n",
    "\n",
    "It can be suggested that the features like Weather, Road and Light conditions, addresstype, junctiontype have impact on severity in accidents, they can also help to predict the severity of the accident, that may results in injury or property damage."
   ]
  },
  {
   "cell_type": "markdown",
   "metadata": {},
   "source": [
    "# Conclusion"
   ]
  },
  {
   "cell_type": "markdown",
   "metadata": {},
   "source": [
    "In this report, we analyze a dataset provided by Seattle Department of Transportion, trying to see a range of factors, including weather conditions, special events, roadworks, traffic jams among others, and in order to perform an accurate prediction of the severity of the accidents. \n",
    "\n",
    "We first Relationship between weather and seveitycode and accident, Relationship between VEHCOUNT, PERSONCOUNT based on SEVERITY,Relationship between LIGHTCOND and personcount and SEVERITY of Accidents. And finally choose ADDRTYPE, JUNCTIONTYPE, WEATHER, ROADCOND, LIGHTCOND these five factor to analyze whether they are relative to the severity of accident. By performing three models listed here: K-Nearest Neighbor (KNN) Decision Tree Logistic Regression. Obviously, The model and its results provide some key insights for the target audience to make impactful decisions in reducing the number of accidents and injuries in their localities. \n",
    "\n"
   ]
  },
  {
   "cell_type": "code",
   "execution_count": null,
   "metadata": {},
   "outputs": [],
   "source": []
  }
 ],
 "metadata": {
  "kernelspec": {
   "display_name": "Python",
   "language": "python",
   "name": "conda-env-python-py"
  },
  "language_info": {
   "codemirror_mode": {
    "name": "ipython",
    "version": 3
   },
   "file_extension": ".py",
   "mimetype": "text/x-python",
   "name": "python",
   "nbconvert_exporter": "python",
   "pygments_lexer": "ipython3",
   "version": "3.6.11"
  }
 },
 "nbformat": 4,
 "nbformat_minor": 4
}
